{
 "cells": [
  {
   "cell_type": "markdown",
   "metadata": {},
   "source": [
    "# Naive Bayes Classifier"
   ]
  },
  {
   "cell_type": "markdown",
   "metadata": {},
   "source": [
    "## Introduction\n",
    "\n",
    "In this project, we intend to use the Naive Bayes Classifier to analyze the attitude of the comments and classify the positive and negative comments according to their text.\n",
    "\n",
    "Two data sets for training and testing the model are given. Each comment in data sets has a title and a body. Each comment also has a label that can be Recommended or not recommended."
   ]
  },
  {
   "cell_type": "markdown",
   "metadata": {},
   "source": [
    "Before anything, libraries that are needed in the project will be imported."
   ]
  },
  {
   "cell_type": "code",
   "execution_count": 1,
   "metadata": {},
   "outputs": [],
   "source": [
    "import numpy as np\n",
    "import pandas as pd\n",
    "\n",
    "import matplotlib as mpl\n",
    "import matplotlib.pyplot as plt\n",
    "\n",
    "from hazm import *\n",
    "\n",
    "from __future__ import unicode_literals"
   ]
  },
  {
   "cell_type": "code",
   "execution_count": 2,
   "metadata": {},
   "outputs": [
    {
     "data": {
      "text/html": [
       "<div>\n",
       "<style scoped>\n",
       "    .dataframe tbody tr th:only-of-type {\n",
       "        vertical-align: middle;\n",
       "    }\n",
       "\n",
       "    .dataframe tbody tr th {\n",
       "        vertical-align: top;\n",
       "    }\n",
       "\n",
       "    .dataframe thead th {\n",
       "        text-align: right;\n",
       "    }\n",
       "</style>\n",
       "<table border=\"1\" class=\"dataframe\">\n",
       "  <thead>\n",
       "    <tr style=\"text-align: right;\">\n",
       "      <th></th>\n",
       "      <th>title</th>\n",
       "      <th>comment</th>\n",
       "      <th>recommend</th>\n",
       "    </tr>\n",
       "  </thead>\n",
       "  <tbody>\n",
       "    <tr>\n",
       "      <th>0</th>\n",
       "      <td>زیبا اما کم دوام</td>\n",
       "      <td>با وجود سابقه خوبی که از برند ایرانی نهرین سرا...</td>\n",
       "      <td>not_recommended</td>\n",
       "    </tr>\n",
       "    <tr>\n",
       "      <th>1</th>\n",
       "      <td>بسیار عالی</td>\n",
       "      <td>بسیار عالی</td>\n",
       "      <td>recommended</td>\n",
       "    </tr>\n",
       "    <tr>\n",
       "      <th>2</th>\n",
       "      <td>سلام</td>\n",
       "      <td>من الان ۳ هفته هست استفاده میکنم\\r\\nبرای کسایی...</td>\n",
       "      <td>not_recommended</td>\n",
       "    </tr>\n",
       "    <tr>\n",
       "      <th>3</th>\n",
       "      <td>به درد نمیخورهههه</td>\n",
       "      <td>عمرش کمه تا یه هفته بیشتر نمیشه استفاده کرد یا...</td>\n",
       "      <td>not_recommended</td>\n",
       "    </tr>\n",
       "    <tr>\n",
       "      <th>4</th>\n",
       "      <td>کلمن آب</td>\n",
       "      <td>فکر کنین کلمن بخرین با ذوق. کلی پولشو بدین. به...</td>\n",
       "      <td>not_recommended</td>\n",
       "    </tr>\n",
       "    <tr>\n",
       "      <th>...</th>\n",
       "      <td>...</td>\n",
       "      <td>...</td>\n",
       "      <td>...</td>\n",
       "    </tr>\n",
       "    <tr>\n",
       "      <th>5995</th>\n",
       "      <td>جنسش عالیه</td>\n",
       "      <td>خیلی جنس پارچش نرم ولطیفه خیلیم جنسش خوبه اما ...</td>\n",
       "      <td>recommended</td>\n",
       "    </tr>\n",
       "    <tr>\n",
       "      <th>5996</th>\n",
       "      <td>خرید محصول</td>\n",
       "      <td>سلام.واقعا فکر نمی کردم به این راحتی اصلاح کنم...</td>\n",
       "      <td>recommended</td>\n",
       "    </tr>\n",
       "    <tr>\n",
       "      <th>5997</th>\n",
       "      <td>تعریف</td>\n",
       "      <td>من از دیجی کالا خریدم خیلی زود دستم رسید،زیبا،...</td>\n",
       "      <td>recommended</td>\n",
       "    </tr>\n",
       "    <tr>\n",
       "      <th>5998</th>\n",
       "      <td>اصلا چای ماچا نیسش</td>\n",
       "      <td>یا شرکت نمیدونسته چای ماچا امپریال چیه یا واقع...</td>\n",
       "      <td>not_recommended</td>\n",
       "    </tr>\n",
       "    <tr>\n",
       "      <th>5999</th>\n",
       "      <td>یک هدست بدون سیم عالی</td>\n",
       "      <td>این هدست را چند هفته قبل از سایت دیجی کالا خری...</td>\n",
       "      <td>recommended</td>\n",
       "    </tr>\n",
       "  </tbody>\n",
       "</table>\n",
       "<p>6000 rows × 3 columns</p>\n",
       "</div>"
      ],
      "text/plain": [
       "                      title  \\\n",
       "0          زیبا اما کم دوام   \n",
       "1                بسیار عالی   \n",
       "2                      سلام   \n",
       "3         به درد نمیخورهههه   \n",
       "4                   کلمن آب   \n",
       "...                     ...   \n",
       "5995             جنسش عالیه   \n",
       "5996             خرید محصول   \n",
       "5997                  تعریف   \n",
       "5998     اصلا چای ماچا نیسش   \n",
       "5999  یک هدست بدون سیم عالی   \n",
       "\n",
       "                                                comment        recommend  \n",
       "0     با وجود سابقه خوبی که از برند ایرانی نهرین سرا...  not_recommended  \n",
       "1                                            بسیار عالی      recommended  \n",
       "2     من الان ۳ هفته هست استفاده میکنم\\r\\nبرای کسایی...  not_recommended  \n",
       "3     عمرش کمه تا یه هفته بیشتر نمیشه استفاده کرد یا...  not_recommended  \n",
       "4     فکر کنین کلمن بخرین با ذوق. کلی پولشو بدین. به...  not_recommended  \n",
       "...                                                 ...              ...  \n",
       "5995  خیلی جنس پارچش نرم ولطیفه خیلیم جنسش خوبه اما ...      recommended  \n",
       "5996  سلام.واقعا فکر نمی کردم به این راحتی اصلاح کنم...      recommended  \n",
       "5997  من از دیجی کالا خریدم خیلی زود دستم رسید،زیبا،...      recommended  \n",
       "5998  یا شرکت نمیدونسته چای ماچا امپریال چیه یا واقع...  not_recommended  \n",
       "5999  این هدست را چند هفته قبل از سایت دیجی کالا خری...      recommended  \n",
       "\n",
       "[6000 rows x 3 columns]"
      ]
     },
     "execution_count": 2,
     "metadata": {},
     "output_type": "execute_result"
    }
   ],
   "source": [
    "train_df = pd.read_csv('../data/train.csv')\n",
    "train_df"
   ]
  },
  {
   "cell_type": "code",
   "execution_count": 3,
   "metadata": {},
   "outputs": [
    {
     "name": "stdout",
     "output_type": "stream",
     "text": [
      "<class 'pandas.core.frame.DataFrame'>\n",
      "RangeIndex: 6000 entries, 0 to 5999\n",
      "Data columns (total 3 columns):\n",
      " #   Column     Non-Null Count  Dtype \n",
      "---  ------     --------------  ----- \n",
      " 0   title      6000 non-null   object\n",
      " 1   comment    6000 non-null   object\n",
      " 2   recommend  6000 non-null   object\n",
      "dtypes: object(3)\n",
      "memory usage: 140.8+ KB\n"
     ]
    }
   ],
   "source": [
    "train_df.info()"
   ]
  },
  {
   "cell_type": "code",
   "execution_count": 4,
   "metadata": {
    "scrolled": true
   },
   "outputs": [
    {
     "data": {
      "image/png": "[encoded data removed]",
      "text/plain": [
       "<Figure size 432x288 with 1 Axes>"
      ]
     },
     "metadata": {
      "needs_background": "light"
     },
     "output_type": "display_data"
    }
   ],
   "source": [
    "train_df['recommend'].value_counts().sort_index().plot(kind='bar', rot=0, ylabel='count')\n",
    "plt.show()"
   ]
  },
  {
   "cell_type": "markdown",
   "metadata": {},
   "source": [
    "## Phase One: Data Preprocessing\n",
    "\n",
    "In this phase, preprocessing operations will be applied on both train and test data.\n",
    "* **Types of text preprocessing techniques**\n",
    "    * Normalization\n",
    "    * Stopword Removal\n",
    "    * Duplicate Word Removal\n",
    "    * Lemmatization\n",
    "    * Stemming\n",
    "    * Integer Removal\n",
    "    * Small Word Removal"
   ]
  },
  {
   "cell_type": "code",
   "execution_count": 5,
   "metadata": {
    "scrolled": true
   },
   "outputs": [],
   "source": [
    "class DataPreprocessor():\n",
    "    def __init__(self):\n",
    "        self.data = Data()\n",
    "    def preprocess(self, text, text_recommend = [], preprocess = True, train = True):\n",
    "        if(preprocess == True):\n",
    "            out_0 = WordTokenizer().tokenize_column(TextNormalizer().normalize_column(text))\n",
    "            out_1 = DuplicateWordRemover().remove_duplicate_words(out_0)\n",
    "            out_2 = StopWordRemover().remove_stop_words(out_1)\n",
    "            out_3 = NumberRemover().remove_numbers(out_2)\n",
    "            #out_4 = SmallWordRemover().remove_small_word(out_3)\n",
    "            #out_2 = TextLemmatizer().lemmatize_column(out_1)\n",
    "            #out_3 = TextStemmer().stem_column(out_2)\n",
    "            #out_3 = Remover().remove(out_2)           \n",
    "            if(train == True):\n",
    "                for comment, recommend in zip(out_2, text_recommend):\n",
    "                    self.data.add_text(comment, recommend)\n",
    "            return out_2\n",
    "        else:\n",
    "            return WordTokenizer().tokenize_column(text)\n",
    "        \n",
    "class Data:\n",
    "    def __init__(self):\n",
    "        self.recommended = {}\n",
    "        self.not_recommended = {}\n",
    "    def add_text(self, text, recommend):\n",
    "        for word in text:\n",
    "            self.add_word(word, recommend)\n",
    "    def add_word(self, word, recommend):\n",
    "        if recommend == 'recommended':\n",
    "            if word in self.recommended.keys():\n",
    "                self.recommended[word] += 1\n",
    "            else:\n",
    "                self.recommended[word] = 1\n",
    "        else:\n",
    "            if word in self.not_recommended.keys():\n",
    "                self.not_recommended[word] += 1\n",
    "            else:\n",
    "                self.not_recommended[word] = 1\n",
    "                \n",
    "class TextNormalizer():\n",
    "    def __init__(self):\n",
    "        self.normalizer = Normalizer()\n",
    "    def normalize_column(self, column):\n",
    "        return column.apply(lambda row: self.normalizer.normalize(row))\n",
    "\n",
    "class WordTokenizer():\n",
    "    def tokenize_column(self, column):\n",
    "        return column.apply(lambda row: word_tokenize(row))\n",
    "\n",
    "class TextLemmatizer():\n",
    "    def __init__(self):\n",
    "        self.lemmatizer = Lemmatizer()\n",
    "    def lemmatize_column(self, column):\n",
    "        return column.apply(lambda row: [self.lemmatizer.lemmatize(token) for token in row])\n",
    "    \n",
    "class TextStemmer():\n",
    "    def __init__(self):\n",
    "        self.stemmer = Stemmer()\n",
    "    def stem_column(self, column):\n",
    "        return column.apply(lambda row: [self.stemmer.stem(token) for token in row])\n",
    "    \n",
    "class StopWordRemover():\n",
    "    def remove_stop_words(self, column):\n",
    "         return column.apply(lambda row: [token for token in row if(token not in stopwords_list())])\n",
    "\n",
    "class DuplicateWordRemover():\n",
    "    def remove_duplicate_words(self, column):\n",
    "        return column.apply(lambda row: list(dict.fromkeys(row)))\n",
    "\n",
    "class Remover():\n",
    "    def remove(self, column):\n",
    "         return column.apply(lambda row: [token[0: token.find('#')] for token in row])\n",
    "        \n",
    "class SmallWordRemover():\n",
    "    def remove_small_word(self, column):\n",
    "         return column.apply(lambda row: [token for token in row if(len(token) > 2)])\n",
    "\n",
    "class NumberRemover():\n",
    "    def remove_numbers(self, column):\n",
    "         return column.apply(lambda row: [token for token in row if(not isinstance(token, int))])"
   ]
  },
  {
   "cell_type": "markdown",
   "metadata": {},
   "source": [
    "**Explanation and analysis of replacing words by stemming and lemmatization**\n",
    "\n",
    "**Stemming**\n",
    "\n",
    "Stemming is the process of reducing inflection in words to their root form. In this case, the “root” may not be a real root word but just a canonical form of the original word. Stemming uses a simple heuristic process that cuts off the ends of words in the hope of correctly converting words into its root form. For stemming, we use hazm library.\n",
    "\n",
    "**Effects of stemming**\n",
    "\n",
    "Stemming only marginally helped improve classification accuracy when it is compared with using better-engineered features.\n",
    "\n",
    "**Lemmatization**\n",
    "\n",
    "Lemmatization on the surface is very similar to stemming, where the purpose is to remove inflections and map a word to its root form. The only difference is that lemmatization tries to do it the proper way. It doesn’t just chop things off. It converts words to the actual root.\n",
    "\n",
    "**Effects of Lemmatization**\n",
    "\n",
    "Lemmatization provides no notable benefit over stemming for text classification purposes in this case. Moreover, it is slower."
   ]
  },
  {
   "cell_type": "code",
   "execution_count": 6,
   "metadata": {},
   "outputs": [
    {
     "data": {
      "text/html": [
       "<div>\n",
       "<style scoped>\n",
       "    .dataframe tbody tr th:only-of-type {\n",
       "        vertical-align: middle;\n",
       "    }\n",
       "\n",
       "    .dataframe tbody tr th {\n",
       "        vertical-align: top;\n",
       "    }\n",
       "\n",
       "    .dataframe thead th {\n",
       "        text-align: right;\n",
       "    }\n",
       "</style>\n",
       "<table border=\"1\" class=\"dataframe\">\n",
       "  <thead>\n",
       "    <tr style=\"text-align: right;\">\n",
       "      <th></th>\n",
       "      <th>title</th>\n",
       "      <th>comment</th>\n",
       "      <th>recommend</th>\n",
       "    </tr>\n",
       "  </thead>\n",
       "  <tbody>\n",
       "    <tr>\n",
       "      <th>0</th>\n",
       "      <td>وری گود</td>\n",
       "      <td>تازه خریدم یه مدت کار بکنه مشخص میشه کیفیت قطعاتش</td>\n",
       "      <td>recommended</td>\n",
       "    </tr>\n",
       "    <tr>\n",
       "      <th>1</th>\n",
       "      <td>زیاد مناسب نیست رنگ پس میده یه وقتایی موقع نوشتن</td>\n",
       "      <td>با این قیمت گزینه های بهتری هم میشه گرفت.\\r\\nر...</td>\n",
       "      <td>not_recommended</td>\n",
       "    </tr>\n",
       "    <tr>\n",
       "      <th>2</th>\n",
       "      <td>پنکه گوشی</td>\n",
       "      <td>خیلی عالیه، فقط کاش از اون سمتش میشد به پاوربا...</td>\n",
       "      <td>recommended</td>\n",
       "    </tr>\n",
       "    <tr>\n",
       "      <th>3</th>\n",
       "      <td>دستگاه خیلی ضعیف</td>\n",
       "      <td>من این فیس براس چند روز یپش به دستم رسید و الا...</td>\n",
       "      <td>not_recommended</td>\n",
       "    </tr>\n",
       "    <tr>\n",
       "      <th>4</th>\n",
       "      <td>عالی و بیست</td>\n",
       "      <td>بنده یه هارد اکسترنال دارم که کابل فابریکش سال...</td>\n",
       "      <td>recommended</td>\n",
       "    </tr>\n",
       "    <tr>\n",
       "      <th>...</th>\n",
       "      <td>...</td>\n",
       "      <td>...</td>\n",
       "      <td>...</td>\n",
       "    </tr>\n",
       "    <tr>\n",
       "      <th>795</th>\n",
       "      <td>بسیار کوچیک</td>\n",
       "      <td>طراحیش قشنگه ولی  داخل عکس خیلی بزرگتر ب چشم م...</td>\n",
       "      <td>not_recommended</td>\n",
       "    </tr>\n",
       "    <tr>\n",
       "      <th>796</th>\n",
       "      <td>لامپ چینی</td>\n",
       "      <td>این لامپ چینی هستتش کیفیت پایین . نور کم و فاق...</td>\n",
       "      <td>not_recommended</td>\n",
       "    </tr>\n",
       "    <tr>\n",
       "      <th>797</th>\n",
       "      <td>خوب بود</td>\n",
       "      <td>در کل از این خریدم راضی هستم و به تناسب قیمتش ...</td>\n",
       "      <td>recommended</td>\n",
       "    </tr>\n",
       "    <tr>\n",
       "      <th>798</th>\n",
       "      <td>کیفیت خوبی داره</td>\n",
       "      <td>تازع نصبش کردم-سرعت انتقال و نصب بازی روش عالی...</td>\n",
       "      <td>recommended</td>\n",
       "    </tr>\n",
       "    <tr>\n",
       "      <th>799</th>\n",
       "      <td>از خریدم پشیمونم</td>\n",
       "      <td>نسبت به باطری اصلی فقط 60% کار میکنه\\r\\nالان د...</td>\n",
       "      <td>not_recommended</td>\n",
       "    </tr>\n",
       "  </tbody>\n",
       "</table>\n",
       "<p>800 rows × 3 columns</p>\n",
       "</div>"
      ],
      "text/plain": [
       "                                                title  \\\n",
       "0                                             وری گود   \n",
       "1    زیاد مناسب نیست رنگ پس میده یه وقتایی موقع نوشتن   \n",
       "2                                           پنکه گوشی   \n",
       "3                                    دستگاه خیلی ضعیف   \n",
       "4                                         عالی و بیست   \n",
       "..                                                ...   \n",
       "795                                       بسیار کوچیک   \n",
       "796                                         لامپ چینی   \n",
       "797                                           خوب بود   \n",
       "798                                   کیفیت خوبی داره   \n",
       "799                                  از خریدم پشیمونم   \n",
       "\n",
       "                                               comment        recommend  \n",
       "0    تازه خریدم یه مدت کار بکنه مشخص میشه کیفیت قطعاتش      recommended  \n",
       "1    با این قیمت گزینه های بهتری هم میشه گرفت.\\r\\nر...  not_recommended  \n",
       "2    خیلی عالیه، فقط کاش از اون سمتش میشد به پاوربا...      recommended  \n",
       "3    من این فیس براس چند روز یپش به دستم رسید و الا...  not_recommended  \n",
       "4    بنده یه هارد اکسترنال دارم که کابل فابریکش سال...      recommended  \n",
       "..                                                 ...              ...  \n",
       "795  طراحیش قشنگه ولی  داخل عکس خیلی بزرگتر ب چشم م...  not_recommended  \n",
       "796  این لامپ چینی هستتش کیفیت پایین . نور کم و فاق...  not_recommended  \n",
       "797  در کل از این خریدم راضی هستم و به تناسب قیمتش ...      recommended  \n",
       "798  تازع نصبش کردم-سرعت انتقال و نصب بازی روش عالی...      recommended  \n",
       "799  نسبت به باطری اصلی فقط 60% کار میکنه\\r\\nالان د...  not_recommended  \n",
       "\n",
       "[800 rows x 3 columns]"
      ]
     },
     "execution_count": 6,
     "metadata": {},
     "output_type": "execute_result"
    }
   ],
   "source": [
    "test_df = pd.read_csv('../data/test.csv')\n",
    "test_df"
   ]
  },
  {
   "cell_type": "code",
   "execution_count": 7,
   "metadata": {},
   "outputs": [
    {
     "name": "stdout",
     "output_type": "stream",
     "text": [
      "<class 'pandas.core.frame.DataFrame'>\n",
      "RangeIndex: 800 entries, 0 to 799\n",
      "Data columns (total 3 columns):\n",
      " #   Column     Non-Null Count  Dtype \n",
      "---  ------     --------------  ----- \n",
      " 0   title      800 non-null    object\n",
      " 1   comment    800 non-null    object\n",
      " 2   recommend  800 non-null    object\n",
      "dtypes: object(3)\n",
      "memory usage: 18.9+ KB\n"
     ]
    }
   ],
   "source": [
    "test_df.info()"
   ]
  },
  {
   "cell_type": "code",
   "execution_count": 8,
   "metadata": {
    "scrolled": false
   },
   "outputs": [
    {
     "data": {
      "image/png": "[encoded data removed]",
      "text/plain": [
       "<Figure size 432x288 with 1 Axes>"
      ]
     },
     "metadata": {
      "needs_background": "light"
     },
     "output_type": "display_data"
    }
   ],
   "source": [
    "test_df['recommend'].value_counts().sort_index().plot(kind='bar', rot=0, ylabel='count')\n",
    "plt.show()"
   ]
  },
  {
   "cell_type": "code",
   "execution_count": 9,
   "metadata": {
    "scrolled": false
   },
   "outputs": [],
   "source": [
    "recommend_df = test_df['recommend'].copy()"
   ]
  },
  {
   "cell_type": "code",
   "execution_count": 10,
   "metadata": {
    "scrolled": true
   },
   "outputs": [],
   "source": [
    "data_processor = DataPreprocessor()\n",
    "preprocessed_data = data_processor.preprocess(test_df['comment'], [], True, False)"
   ]
  },
  {
   "cell_type": "markdown",
   "metadata": {},
   "source": [
    "## Phase Two: Modeling the Problem\n",
    "\n",
    "\\\\( P(c|x) = \\frac{P(x|c) \\times P(c)}{P(x)} \\\\)\n",
    "\n",
    "- **Posterior:** Probability of comment x being classified in class c.\n",
    "- **Likelihood:** This is the probability that comment (x) occurs given that the comment is in class c. To calculate this probability, we Multiply P(words in this text | c).\n",
    "- **Prior:** How much initially we believed that the comment would be classified in this class. In other words, it is the probability that a comment is in class c. To calculate this probability, we need to count the number of comments in this class over the total number of comments.\n",
    "- **Evidence:** This is the probability that the comment occurs overall.\n",
    "\n",
    "One of the shortcomings of Naive Bayes is the assumption of independent predictor features. Rather than calculating each attribute value's probabilities, they are assumed to be conditionally independent. In other words, the attributes do not interact with each other, given the class value. \n",
    "\n",
    "### Additive Smoothing\n",
    "\n",
    "In statistics, Additive Smoothing, also called Laplace Smoothing or Lidstone smoothing, is used primarily for scenarios when you expect to see attributes that weren't present in the training data set. This scenario is more relevant when classifying text. Additive Smoothing assures that even though a word was not present in a particular class in the training set, that doesn't mean that it will not be present in that particular class in any unseen data. The same thing applies if a word was not present in both classes in the training set. In other words, Additive Smoothing by adding a small value to that probability makes sure that the probability of that word presenting in that class is not 0. This small value is Additive Smoothing."
   ]
  },
  {
   "cell_type": "markdown",
   "metadata": {},
   "source": [
    "## Phase Three: Evaluation\n",
    "\n",
    "To evaluate results, we use these four models:\n",
    "\n",
    "\\\\(Accuracy = \\frac{Correct Detected}{Total} \\\\)\n",
    "\n",
    "\\\\(Precision = \\frac{Correct Detected Recommended}{All Detected Recommended (Including Wrong Ones)} \\\\)\n",
    "\n",
    "\\\\(Recall = \\frac{Correct Detected Recommended}{Total Recommended} \\\\)\n",
    "\n",
    "\\\\(F1 = 2 \\times \\frac{Precision \\times Recall}{Precision + Recall)} \\\\)\n",
    "\n",
    "**Correct Detected Recommended:** The number of comments that have been correctly classified as recommended.\n",
    "\n",
    "**All Detected Recommended:** The number of all comments that have been classified as recommended.\n",
    "\n",
    "**Total Recommended:** The number of all comments that were recommended in the test dataset."
   ]
  },
  {
   "cell_type": "markdown",
   "metadata": {},
   "source": [
    "**Why the Precision and Recall each alone is not enough to evaluate the model?**\n",
    "\n",
    "**Precision:**\n",
    "\n",
    "For example, suppose we only classify one word as recommended. In that case, Precision will be 1.0, but we know we didn't classify many words correctly, yet because Precision is 1.0, we might evaluate that the model is great.\n",
    "\n",
    "\\\\(Correct Detected = 1 \\\\)\n",
    "\n",
    "\\\\(All Detected Recommended = 1 \\\\)\n",
    "\n",
    "\\\\(Total Recommended >> 1 \\\\)\n",
    "\n",
    "\\\\(Precision = \\frac{Correct Detected Recommended}{All Detected Recommended (Including Wrong Ones)} = \\frac{1}{1} = 1.0 \\\\)\n",
    "\n",
    "**Recall:**\n",
    "\n",
    "For example, if we classify all words as recommended, then Recall will be 1.0, but we know we didn't classify many words correctly, yet because Recall is 1.0, we might evaluate that the model is great.\n",
    "\n",
    "Because of above examples we can't use only one of the them to evaluate our model.\n",
    "\n",
    "\\\\(Correct Detected = d \\\\)\n",
    "\n",
    "\\\\(All Detected Recommended > d \\\\)\n",
    "\n",
    "\\\\(Total Recommended = d \\\\)\n",
    "\n",
    "\\\\(Recall = \\frac{Correct Detected Recommended}{Total Recommended} = \\frac{d}{d} = 1.0 \\\\)\n",
    "\n",
    "**What kind of mediation between Precision and Recall is used in F1 criterion?**\n",
    "\n",
    "F1 score is the harmonic mean of precision and recall:\n",
    "\n",
    "\\\\(F1 = \\frac{2}{Recall ^ {-1} + Precision ^ {-1}} = 2 \\times \\frac{Precision \\times Recall}{Precision + Recall} \\\\)\n",
    "\n",
    "**What is the reason?**\n",
    "\n",
    "We use a harmonic mean instead of arithmetic mean because it punishes extreme values. Here is an example:\n",
    "\n",
    "\\\\(Precision = 1.0 \\\\)\n",
    "\n",
    "\\\\(Recall = 0.0 \\\\)\n",
    "\n",
    "\\\\(Simple Average = \\frac{Recall + Precision}{2} = \\frac{0.0 + 1.0}{2} = 0.5 \\\\)\n",
    "\n",
    "\\\\(F1 = \\frac{2}{Recall ^ {-1} + Precision ^ {-1}} = 2 \\times \\frac{Precision \\times Recall}{Precision + Recall} = 2 \\times \\frac{1.0 \\times 0.0}{1.0 + 0.0} = 0 \\\\)\n",
    "\n",
    "A classifier that has precision of 1.0 and a recall of 0.0 has a simple average of 0.5 but an F1 score of 0."
   ]
  },
  {
   "cell_type": "code",
   "execution_count": 11,
   "metadata": {},
   "outputs": [],
   "source": [
    "class NavieBayes:\n",
    "    def __init__(self, train_df, alpha = 1, additive_smoothing = True):\n",
    "        self.data = DataPreprocessor()\n",
    "        self.trained_data = self.data.preprocess(train_df['comment'], train_df['recommend'])\n",
    "        self.alpha = alpha\n",
    "        self.additive_smoothing = additive_smoothing\n",
    "    def classify(self, preprocessed_data, test_df):\n",
    "        number_features = len(self.data.data.recommended.keys()) + len(self.data.data.not_recommended.keys())\n",
    "        index = 0\n",
    "        for comment in preprocessed_data:\n",
    "            p_recommended = len([x for x in recommend_df if(x == 'recommended')]) / recommend_df.count()\n",
    "            p_not_recommended = len([x for x in recommend_df if(x == 'not_recommended')]) / recommend_df.count()\n",
    "            for word in comment:\n",
    "                number_word_recommended = 0\n",
    "                number_word_not_recommended = 0\n",
    "                if word in self.data.data.recommended.keys():\n",
    "                    number_word_recommended = self.data.data.recommended[word]\n",
    "                if word in self.data.data.not_recommended.keys():\n",
    "                    number_word_not_recommended = self.data.data.not_recommended[word]\n",
    "                number_word = number_word_recommended + number_word_not_recommended\n",
    "                if(self.additive_smoothing == True):\n",
    "                    number_word = number_word_recommended + number_word_not_recommended\n",
    "                    p_recommended *= (number_word_recommended + self.alpha) / (number_features * self.alpha + number_word)\n",
    "                    p_not_recommended *= (number_word_not_recommended + self.alpha) / (number_features * self.alpha + number_word)\n",
    "                elif(number_word != 0):\n",
    "                    p_recommended *= number_word_recommended / number_word\n",
    "                    p_not_recommended *= number_word_not_recommended / number_word    \n",
    "            if p_recommended >= p_not_recommended:\n",
    "                test_df['recommend'][index] = 'recommended'\n",
    "            else:\n",
    "                test_df['recommend'][index] = 'not_recommended'\n",
    "            index += 1\n",
    "        return test_df['recommend']"
   ]
  },
  {
   "cell_type": "code",
   "execution_count": 12,
   "metadata": {},
   "outputs": [],
   "source": [
    "test_df['recommend'] = NavieBayes(train_df, 1, True).classify(preprocessed_data, test_df)"
   ]
  },
  {
   "cell_type": "code",
   "execution_count": 13,
   "metadata": {},
   "outputs": [
    {
     "name": "stdout",
     "output_type": "stream",
     "text": [
      "all recommended detected:\t443\n",
      "correct recommended detected:\t385\n",
      "total recommended:\t\t400\n"
     ]
    }
   ],
   "source": [
    "def count_all_recommended_detected(df):\n",
    "    counter = 0\n",
    "    for i in df['recommend']:\n",
    "        if i == 'recommended':\n",
    "            counter += 1\n",
    "    return counter\n",
    "\n",
    "def count_correct_recommended_detected(df, recommend):\n",
    "    counter = 0\n",
    "    for i in range(len(df['recommend'])):\n",
    "        if df['recommend'][i] == recommend[i] and recommend[i] == 'recommended':\n",
    "            counter += 1\n",
    "    return counter\n",
    "\n",
    "def count_correct_not_recommended_detected(df, recommend):\n",
    "    counter = 0\n",
    "    for i in range(len(df['recommend'])):\n",
    "        if df['recommend'][i] == recommend[i] and recommend[i] == 'not_recommended':\n",
    "            counter += 1\n",
    "    return counter\n",
    "\n",
    "all_recommended_detected = count_all_recommended_detected(test_df)\n",
    "correct_recommended_detected = count_correct_recommended_detected(test_df, recommend_df)\n",
    "correct_not_recommended_detected = count_correct_not_recommended_detected(test_df, recommend_df)\n",
    "\n",
    "print(f\"all recommended detected:\\t{all_recommended_detected}\")\n",
    "print(f\"correct recommended detected:\\t{correct_recommended_detected}\")\n",
    "print(f\"total recommended:\\t\\t{len([x for x in recommend_df if(x == 'recommended')])}\")"
   ]
  },
  {
   "cell_type": "code",
   "execution_count": 14,
   "metadata": {},
   "outputs": [
    {
     "name": "stdout",
     "output_type": "stream",
     "text": [
      "accuracy:\t0.90875\n",
      "precision:\t0.8690744920993227\n",
      "recall:\t\t0.9625\n",
      "f1-score:\t0.9134045077105575\n"
     ]
    }
   ],
   "source": [
    "def get_accuracy(correct_recommended_detected, correct_not_recommended_detected, recommend_df):\n",
    "    return (correct_recommended_detected + correct_not_recommended_detected) / recommend_df.count()\n",
    "\n",
    "def get_precision(correct_recommended_detected, all_recommended_detected):\n",
    "    return correct_recommended_detected / all_recommended_detected\n",
    "\n",
    "def get_recall(correct_recommended_detected, recommend_df):\n",
    "    return correct_recommended_detected / len([x for x in recommend_df if(x == 'recommended')])\n",
    "\n",
    "def get_f1(precision, recall):\n",
    "    return 2 * (precision * recall) / (precision + recall)\n",
    "accuracy = get_accuracy(correct_recommended_detected, correct_not_recommended_detected, recommend_df)\n",
    "precision = get_precision(correct_recommended_detected, all_recommended_detected)\n",
    "recall = get_recall(correct_recommended_detected, recommend_df)\n",
    "f1_score = get_f1(precision, recall)\n",
    "\n",
    "print(f'accuracy:\\t{accuracy}')\n",
    "print(f'precision:\\t{precision}')\n",
    "print(f'recall:\\t\\t{recall}')\n",
    "print(f'f1-score:\\t{f1_score}')"
   ]
  },
  {
   "cell_type": "markdown",
   "metadata": {},
   "source": [
    "| Case | Accuracy | Precision | Recall |   F1   |\n",
    "|:----:|:--------:|:---------:|:------:|:------:|\n",
    "|   Using Preprocessing and Additive Smoothing   |  0.9087  |   0.8690  | 0.9625 | 0.9134 |\n",
    "|   Using Additive Smoothing  |  0.8737  |   0.8174  | 0.9625 | 0.8840 |\n",
    "|   Using Preprocessing  |  0.8850  |   0.8407  | 0.9500 | 0.8920 |\n",
    "|   Using nothing  |  0.8575  |   0.8016  | 0.9500 | 0.8695 |"
   ]
  },
  {
   "cell_type": "markdown",
   "metadata": {},
   "source": [
    "| Case | Total | Total Recommended | All Detected Recommended | Correct Detected Recommended |\n",
    "|:----:|:-----:|:-----------------:|:------------------------:|:----------------------------:|\n",
    "|   Using Preprocessing and Additive Smoothing  |  800  |        400        |            443           |              385             |\n",
    "|   Using Additive Smoothing  |  800  |        400        |            471           |              385             |\n",
    "|   Using Preprocessing  |  800  |        400        |            452           |              380             |\n",
    "|   Using nothing  |  800  |        400        |            474           |              380             |"
   ]
  },
  {
   "cell_type": "markdown",
   "metadata": {},
   "source": [
    "**Analysis of the values reached in the previous section**\n",
    "\n",
    "Preprocess is more important than additive smoothing, but each of has its own advantages."
   ]
  },
  {
   "cell_type": "code",
   "execution_count": 15,
   "metadata": {},
   "outputs": [
    {
     "data": {
      "text/html": [
       "<div>\n",
       "<style scoped>\n",
       "    .dataframe tbody tr th:only-of-type {\n",
       "        vertical-align: middle;\n",
       "    }\n",
       "\n",
       "    .dataframe tbody tr th {\n",
       "        vertical-align: top;\n",
       "    }\n",
       "\n",
       "    .dataframe thead th {\n",
       "        text-align: right;\n",
       "    }\n",
       "</style>\n",
       "<table border=\"1\" class=\"dataframe\">\n",
       "  <thead>\n",
       "    <tr style=\"text-align: right;\">\n",
       "      <th></th>\n",
       "      <th>title</th>\n",
       "      <th>comment</th>\n",
       "      <th>recommend</th>\n",
       "    </tr>\n",
       "  </thead>\n",
       "  <tbody>\n",
       "    <tr>\n",
       "      <th>0</th>\n",
       "      <td>وری گود</td>\n",
       "      <td>تازه خریدم یه مدت کار بکنه مشخص میشه کیفیت قطعاتش</td>\n",
       "      <td>not_recommended</td>\n",
       "    </tr>\n",
       "    <tr>\n",
       "      <th>1</th>\n",
       "      <td>زیاد مناسب نیست رنگ پس میده یه وقتایی موقع نوشتن</td>\n",
       "      <td>با این قیمت گزینه های بهتری هم میشه گرفت.\\r\\nر...</td>\n",
       "      <td>recommended</td>\n",
       "    </tr>\n",
       "    <tr>\n",
       "      <th>8</th>\n",
       "      <td>نقد پس از خرید</td>\n",
       "      <td>سلام ، راحت شدم از کابل شارژ ، توصیه میشود به ...</td>\n",
       "      <td>not_recommended</td>\n",
       "    </tr>\n",
       "    <tr>\n",
       "      <th>28</th>\n",
       "      <td>محصول ضعیفی هست</td>\n",
       "      <td>بدون پخش بو و ماندگاری زیاد امیدوارم کیفیتش رو...</td>\n",
       "      <td>recommended</td>\n",
       "    </tr>\n",
       "    <tr>\n",
       "      <th>37</th>\n",
       "      <td>هرگز نخرید</td>\n",
       "      <td>فشار زیاد به دست\\r\\nمدت زمان اندازه گیری فشار\\...</td>\n",
       "      <td>recommended</td>\n",
       "    </tr>\n",
       "  </tbody>\n",
       "</table>\n",
       "</div>"
      ],
      "text/plain": [
       "                                               title  \\\n",
       "0                                            وری گود   \n",
       "1   زیاد مناسب نیست رنگ پس میده یه وقتایی موقع نوشتن   \n",
       "8                                     نقد پس از خرید   \n",
       "28                                   محصول ضعیفی هست   \n",
       "37                                        هرگز نخرید   \n",
       "\n",
       "                                              comment        recommend  \n",
       "0   تازه خریدم یه مدت کار بکنه مشخص میشه کیفیت قطعاتش  not_recommended  \n",
       "1   با این قیمت گزینه های بهتری هم میشه گرفت.\\r\\nر...      recommended  \n",
       "8   سلام ، راحت شدم از کابل شارژ ، توصیه میشود به ...  not_recommended  \n",
       "28  بدون پخش بو و ماندگاری زیاد امیدوارم کیفیتش رو...      recommended  \n",
       "37  فشار زیاد به دست\\r\\nمدت زمان اندازه گیری فشار\\...      recommended  "
      ]
     },
     "execution_count": 15,
     "metadata": {},
     "output_type": "execute_result"
    }
   ],
   "source": [
    "test_df[(test_df['recommend'] != recommend_df)].head()"
   ]
  },
  {
   "cell_type": "markdown",
   "metadata": {},
   "source": [
    "**How to improve shortcomings of this classification**\n",
    "* In Naive Bayes, we assume that the attributes do not interact with each other. In other words that they are independent. In real life, this never occurs by considering the associations between features that would improve the classification.\n",
    "* Another factor is the train data. The size and its contents determine the outcome of the classification. By making the set larger and more diverse, we can improve the classification.\n",
    "* Although additive smoothing is used overall, Zero Frequency is one of the problems of Naive Bayes, and maybe by using other smoothing techniques, we can improve the classification."
   ]
  }
 ],
 "metadata": {
  "kernelspec": {
   "display_name": "Python 3 (ipykernel)",
   "language": "python",
   "name": "python3"
  },
  "language_info": {
   "codemirror_mode": {
    "name": "ipython",
    "version": 3
   },
   "file_extension": ".py",
   "mimetype": "text/x-python",
   "name": "python",
   "nbconvert_exporter": "python",
   "pygments_lexer": "ipython3",
   "version": "3.8.13"
  }
 },
 "nbformat": 4,
 "nbformat_minor": 4
}
